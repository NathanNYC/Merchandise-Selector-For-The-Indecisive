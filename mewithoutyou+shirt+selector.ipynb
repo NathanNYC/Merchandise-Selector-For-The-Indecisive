{
 "cells": [
  {
   "cell_type": "code",
   "execution_count": 23,
   "metadata": {},
   "outputs": [
    {
     "data": {
      "text/html": [
       "<div>\n",
       "<style>\n",
       "    .dataframe thead tr:only-child th {\n",
       "        text-align: right;\n",
       "    }\n",
       "\n",
       "    .dataframe thead th {\n",
       "        text-align: left;\n",
       "    }\n",
       "\n",
       "    .dataframe tbody tr th {\n",
       "        vertical-align: top;\n",
       "    }\n",
       "</style>\n",
       "<table border=\"1\" class=\"dataframe\">\n",
       "  <thead>\n",
       "    <tr style=\"text-align: right;\">\n",
       "      <th></th>\n",
       "      <th>Identifier</th>\n",
       "      <th>Shirt name</th>\n",
       "      <th>Simulation results</th>\n",
       "    </tr>\n",
       "  </thead>\n",
       "  <tbody>\n",
       "    <tr>\n",
       "      <th>1</th>\n",
       "      <td>1</td>\n",
       "      <td>Farewell Flowers</td>\n",
       "      <td>357</td>\n",
       "    </tr>\n",
       "    <tr>\n",
       "      <th>2</th>\n",
       "      <td>2</td>\n",
       "      <td>In the sea</td>\n",
       "      <td>323</td>\n",
       "    </tr>\n",
       "    <tr>\n",
       "      <th>3</th>\n",
       "      <td>3</td>\n",
       "      <td>Sea Creature Dragon</td>\n",
       "      <td>320</td>\n",
       "    </tr>\n",
       "  </tbody>\n",
       "</table>\n",
       "</div>"
      ],
      "text/plain": [
       "   Identifier           Shirt name  Simulation results\n",
       "1           1     Farewell Flowers                 357\n",
       "2           2           In the sea                 323\n",
       "3           3  Sea Creature Dragon                 320"
      ]
     },
     "execution_count": 23,
     "metadata": {},
     "output_type": "execute_result"
    }
   ],
   "source": [
    "#the band mewithoutyou is breaking-up after a 20-year run\n",
    "#its time to pick a shirt to buy from their merch catalogue\n",
    "#which is hard because they're all pretty cool \n",
    "#I have a short-list of three options \n",
    "#https://mewithoutyou.com/collections/apparel\n",
    "#presenting mewithoutyou shirt selector: for the indecisive among us \n",
    "\n",
    "import pandas as pd \n",
    "import random \n",
    "\n",
    "#get the options \n",
    "Options = [1,2,3]\n",
    "Shirts = ['Farewell Flowers','In the sea','Sea Creature Dragon']\n",
    "Combined = list(zip(Options,Shirts))\n",
    "\n",
    "#organize everything \n",
    "df = pd.DataFrame(Combined,columns=['Identifier','Shirt name'],index=[1,2,3])\n",
    "\n",
    "#setup and run a choice simulation (1000 iterations)\n",
    "counter=0\n",
    "one=0\n",
    "two=0\n",
    "three=0\n",
    "\n",
    "while counter < 1000: \n",
    "    choice = random.choice(Options) \n",
    "    if choice == 1:\n",
    "        one+=1\n",
    "    elif choice == 2:\n",
    "        two+=1\n",
    "    elif choice == 3:\n",
    "        three+=1\n",
    "    counter+=1\n",
    "results = [one,two,three]\n",
    "df['Simulation results']=results\n",
    "\n",
    "#display the winner (the one with the highest number of course!)\n",
    "#but you'll probably just keep running this until it comes up as the one you want... \n",
    "df.head()\n",
    "        \n",
    "\n"
   ]
  }
 ],
 "metadata": {
  "kernelspec": {
   "display_name": "Python 3",
   "language": "python",
   "name": "python3"
  },
  "language_info": {
   "codemirror_mode": {
    "name": "ipython",
    "version": 3
   },
   "file_extension": ".py",
   "mimetype": "text/x-python",
   "name": "python",
   "nbconvert_exporter": "python",
   "pygments_lexer": "ipython3",
   "version": "3.6.2"
  }
 },
 "nbformat": 4,
 "nbformat_minor": 2
}
